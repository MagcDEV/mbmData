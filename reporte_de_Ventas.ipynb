{
 "metadata": {
  "language_info": {
   "codemirror_mode": {
    "name": "ipython",
    "version": 3
   },
   "file_extension": ".py",
   "mimetype": "text/x-python",
   "name": "python",
   "nbconvert_exporter": "python",
   "pygments_lexer": "ipython3",
   "version": "3.8.3-final"
  },
  "orig_nbformat": 2,
  "kernelspec": {
   "name": "python38364bit497287d3ad6b45e38ce41657ff7ea75d",
   "display_name": "Python 3.8.3 64-bit"
  }
 },
 "nbformat": 4,
 "nbformat_minor": 2,
 "cells": [
  {
   "cell_type": "code",
   "execution_count": 2,
   "metadata": {
    "tags": []
   },
   "outputs": [
    {
     "output_type": "stream",
     "name": "stdout",
     "text": "<class 'pandas.core.frame.DataFrame'>\nInt64Index: 1319 entries, 40 to 243\nData columns (total 15 columns):\n #   Column                                               Non-Null Count  Dtype         \n---  ------                                               --------------  -----         \n 0   FECHA                                                1319 non-null   datetime64[ns]\n 1   MES                                                  1319 non-null   object        \n 2   N° INVOICE                                           1319 non-null   int64         \n 3   N° WAREHOUSE                                         1319 non-null   int64         \n 4   CLIENTE                                              1318 non-null   object        \n 5   GROSS WEIGHT (lb)                                    1319 non-null   float64       \n 6   MONTO COBRADO POR ZIEGLER  (MISCELANEOS)             1319 non-null   float64       \n 7   MONTO COBRADO MBM                                    1319 non-null   float64       \n 8   GANANCIAS MBM                                        1319 non-null   float64       \n 9   Notas                                                1158 non-null   object        \n 10  FECHA DE SALIDA DE MIAMI                             1166 non-null   datetime64[ns]\n 11  FECHA DE LLEGADA A VENEZUELA                         1102 non-null   datetime64[ns]\n 12  TIPO_DE_ENVIO                                        1319 non-null   object        \n 13  GROSS WEIGHT (Ft)                                    1319 non-null   float64       \n 14  NUM_MES                                              1319 non-null   object        \ndtypes: datetime64[ns](3), float64(5), int64(2), object(5)\nmemory usage: 164.9+ KB\n"
    }
   ],
   "source": [
    "import numpy as np\n",
    "import pandas as pd\n",
    "import matplotlib.pyplot as plt\n",
    "import urllib\n",
    "import os\n",
    "import datetime\n",
    "\n",
    "mbm_data_AM = pd.read_excel(\"RELACION DE FACTURACION_MBM CORP. Agosto 2020.xls\", sheet_name=\"AEREO MISCELANEOS\", skiprows=6)\n",
    "\n",
    "mbm_data_AM = mbm_data_AM[~np.isnan(mbm_data_AM[\"N° WAREHOUSE\"])]\n",
    "\n",
    "mbm_data_MM = pd.read_excel(\"RELACION DE FACTURACION_MBM CORP. Agosto 2020.xls\", sheet_name=\"MARITIMO MISCELANEOS \", skiprows=6)\n",
    "\n",
    "mbm_data_MM = mbm_data_MM[~np.isnan(mbm_data_MM[\"N° WAREHOUSE\"])]\n",
    "\n",
    "mbm_data_AM = mbm_data_AM.iloc[:, 1:]\n",
    "mbm_data_MM =  mbm_data_MM.iloc[:, 0:12]\n",
    "mbm_data_AM[\"TIPO_DE_ENVIO\"] = 'AEREO'\n",
    "mbm_data_MM[\"TIPO_DE_ENVIO\"] = 'MARITIMO'\n",
    "mbm_data = pd.concat([mbm_data_AM, mbm_data_MM])\n",
    "mbm_data[\"GROSS WEIGHT (Ft)\"] = mbm_data[\"GROSS WEIGHT (Ft)\"].fillna(0)\n",
    "mbm_data[\"GROSS WEIGHT (lb)\"]= mbm_data[\"GROSS WEIGHT (lb)\"].fillna(0)\n",
    "mbm_data[\"N° INVOICE\"]= mbm_data[\"N° INVOICE\"].fillna(0)\n",
    "mbm_data[\"N° INVOICE\"] = mbm_data[\"N° INVOICE\"].astype(int)\n",
    "mbm_data[\"N° WAREHOUSE\"]= mbm_data[\"N° WAREHOUSE\"].fillna(0)\n",
    "mbm_data[\"N° WAREHOUSE\"] = mbm_data[\"N° WAREHOUSE\"].astype(int)\n",
    "mbm_data[\"GROSS WEIGHT (Ft)\"] = mbm_data[\"GROSS WEIGHT (Ft)\"].fillna(0)\n",
    "mbm_data[\"GROSS WEIGHT (lb)\"]= mbm_data[\"GROSS WEIGHT (lb)\"].fillna(0)\n",
    "mbm_data[\"N° INVOICE\"]= mbm_data[\"N° INVOICE\"].fillna(0)\n",
    "mbm_data[\"N° INVOICE\"] = mbm_data[\"N° INVOICE\"].astype(int)\n",
    "mbm_data[\"N° WAREHOUSE\"]= mbm_data[\"N° WAREHOUSE\"].fillna(0)\n",
    "mbm_data[\"N° WAREHOUSE\"] = mbm_data[\"N° WAREHOUSE\"].astype(int)\n",
    "\n",
    "mbm_data = mbm_data[~(mbm_data[\"MES\"] == 'DICIEMBRE 2019')]\n",
    "mbm_data['NUM_MES'] = pd.DatetimeIndex(mbm_data['FECHA']).month\n",
    "mbm_data['NUM_MES'] = mbm_data['NUM_MES'].astype(str)\n",
    "mbm_data['MES'] = mbm_data.apply(lambda x: '-'.join(x[[\"NUM_MES\",\"MES\"]]),axis=1) \n",
    "mbm_data.info()"
   ]
  },
  {
   "cell_type": "code",
   "execution_count": 3,
   "metadata": {},
   "outputs": [
    {
     "output_type": "execute_result",
     "data": {
      "text/plain": "         FECHA           MES  N° INVOICE  N° WAREHOUSE              CLIENTE  \\\n40  2020-01-06  1-ENERO 2020       70285        119819         FABIAN DIAZ    \n41  2020-01-06  1-ENERO 2020       70343        119835    Alfonso Campillo    \n42  2020-01-06  1-ENERO 2020       70343        119836  Juan Macias (SOCIO)   \n43  2020-01-06  1-ENERO 2020       70343        119845    Alfonso Campillo    \n44  2020-01-07  1-ENERO 2020       70303        119950      Reinaldo Valdes   \n..         ...           ...         ...           ...                  ...   \n239 2020-07-29  7-JULIO 2020       75946        132977      ROBERTO MORANDI   \n240 2020-07-29  7-JULIO 2020       75946        132979      ROBERTO MORANDI   \n241 2020-07-30  7-JULIO 2020       76005        133015     STEFANIA CHEHADE   \n242 2020-07-30  7-JULIO 2020       76005        133058        JOSMIN VALERA   \n243 2020-07-31  7-JULIO 2020           0        133103          Isai Albert   \n\n     GROSS WEIGHT (lb)  MONTO COBRADO POR ZIEGLER  (MISCELANEOS)             \\\n40                15.0                                            43.5000     \n41                 2.0                                             5.8000     \n42                 1.0                                             2.9000     \n43                 1.0                                             2.9000     \n44                 6.0                                            17.4000     \n..                 ...                                                ...     \n239                0.0                                             2.3142     \n240                0.0                                             1.3794     \n241                0.0                                             0.7068     \n242                0.0                                            20.3148     \n243                0.0                                           105.8718     \n\n     MONTO COBRADO MBM  GANANCIAS MBM  \\\n40              58.000        14.5000   \n41               7.800         2.0000   \n42               2.900         0.0000   \n43               3.900         1.0000   \n44              23.400         6.0000   \n..                 ...            ...   \n239              2.639         0.3248   \n240              1.573         0.1936   \n241              0.806         0.0992   \n242             23.166         2.8512   \n243            120.731        14.8592   \n\n                                                 Notas  \\\n40   El invoice 70285 se pagó a ziegler el 16/01/20...   \n41   El invoice 70343 se pagó a ziegler el 16/01/20...   \n42   El invoice 70343 se pagó a ziegler el 16/01/20...   \n43   El invoice 70343 se pagó a ziegler el 16/01/20...   \n44   El invoice 70303 se pagó a ziegler el 16/01/20...   \n..                                                 ...   \n239                                                NaN   \n240                                                NaN   \n241                                                NaN   \n242                                                NaN   \n243                                                NaN   \n\n    FECHA DE SALIDA DE MIAMI FECHA DE LLEGADA A VENEZUELA TIPO_DE_ENVIO  \\\n40                2020-01-09                   2020-01-13         AEREO   \n41                2020-01-09                   2020-01-13         AEREO   \n42                2020-01-09                   2020-01-13         AEREO   \n43                2020-01-09                   2020-01-13         AEREO   \n44                2020-01-09                   2020-01-13         AEREO   \n..                       ...                          ...           ...   \n239                      NaT                          NaT      MARITIMO   \n240                      NaT                          NaT      MARITIMO   \n241                      NaT                          NaT      MARITIMO   \n242                      NaT                          NaT      MARITIMO   \n243                      NaT                          NaT      MARITIMO   \n\n     GROSS WEIGHT (Ft) NUM_MES  \n40               0.000       1  \n41               0.000       1  \n42               0.000       1  \n43               0.000       1  \n44               0.000       1  \n..                 ...     ...  \n239              0.203       7  \n240              0.121       7  \n241              0.062       7  \n242              1.782       7  \n243              9.287       7  \n\n[1319 rows x 15 columns]",
      "text/html": "<div>\n<style scoped>\n    .dataframe tbody tr th:only-of-type {\n        vertical-align: middle;\n    }\n\n    .dataframe tbody tr th {\n        vertical-align: top;\n    }\n\n    .dataframe thead th {\n        text-align: right;\n    }\n</style>\n<table border=\"1\" class=\"dataframe\">\n  <thead>\n    <tr style=\"text-align: right;\">\n      <th></th>\n      <th>FECHA</th>\n      <th>MES</th>\n      <th>N° INVOICE</th>\n      <th>N° WAREHOUSE</th>\n      <th>CLIENTE</th>\n      <th>GROSS WEIGHT (lb)</th>\n      <th>MONTO COBRADO POR ZIEGLER  (MISCELANEOS)</th>\n      <th>MONTO COBRADO MBM</th>\n      <th>GANANCIAS MBM</th>\n      <th>Notas</th>\n      <th>FECHA DE SALIDA DE MIAMI</th>\n      <th>FECHA DE LLEGADA A VENEZUELA</th>\n      <th>TIPO_DE_ENVIO</th>\n      <th>GROSS WEIGHT (Ft)</th>\n      <th>NUM_MES</th>\n    </tr>\n  </thead>\n  <tbody>\n    <tr>\n      <th>40</th>\n      <td>2020-01-06</td>\n      <td>1-ENERO 2020</td>\n      <td>70285</td>\n      <td>119819</td>\n      <td>FABIAN DIAZ</td>\n      <td>15.0</td>\n      <td>43.5000</td>\n      <td>58.000</td>\n      <td>14.5000</td>\n      <td>El invoice 70285 se pagó a ziegler el 16/01/20...</td>\n      <td>2020-01-09</td>\n      <td>2020-01-13</td>\n      <td>AEREO</td>\n      <td>0.000</td>\n      <td>1</td>\n    </tr>\n    <tr>\n      <th>41</th>\n      <td>2020-01-06</td>\n      <td>1-ENERO 2020</td>\n      <td>70343</td>\n      <td>119835</td>\n      <td>Alfonso Campillo</td>\n      <td>2.0</td>\n      <td>5.8000</td>\n      <td>7.800</td>\n      <td>2.0000</td>\n      <td>El invoice 70343 se pagó a ziegler el 16/01/20...</td>\n      <td>2020-01-09</td>\n      <td>2020-01-13</td>\n      <td>AEREO</td>\n      <td>0.000</td>\n      <td>1</td>\n    </tr>\n    <tr>\n      <th>42</th>\n      <td>2020-01-06</td>\n      <td>1-ENERO 2020</td>\n      <td>70343</td>\n      <td>119836</td>\n      <td>Juan Macias (SOCIO)</td>\n      <td>1.0</td>\n      <td>2.9000</td>\n      <td>2.900</td>\n      <td>0.0000</td>\n      <td>El invoice 70343 se pagó a ziegler el 16/01/20...</td>\n      <td>2020-01-09</td>\n      <td>2020-01-13</td>\n      <td>AEREO</td>\n      <td>0.000</td>\n      <td>1</td>\n    </tr>\n    <tr>\n      <th>43</th>\n      <td>2020-01-06</td>\n      <td>1-ENERO 2020</td>\n      <td>70343</td>\n      <td>119845</td>\n      <td>Alfonso Campillo</td>\n      <td>1.0</td>\n      <td>2.9000</td>\n      <td>3.900</td>\n      <td>1.0000</td>\n      <td>El invoice 70343 se pagó a ziegler el 16/01/20...</td>\n      <td>2020-01-09</td>\n      <td>2020-01-13</td>\n      <td>AEREO</td>\n      <td>0.000</td>\n      <td>1</td>\n    </tr>\n    <tr>\n      <th>44</th>\n      <td>2020-01-07</td>\n      <td>1-ENERO 2020</td>\n      <td>70303</td>\n      <td>119950</td>\n      <td>Reinaldo Valdes</td>\n      <td>6.0</td>\n      <td>17.4000</td>\n      <td>23.400</td>\n      <td>6.0000</td>\n      <td>El invoice 70303 se pagó a ziegler el 16/01/20...</td>\n      <td>2020-01-09</td>\n      <td>2020-01-13</td>\n      <td>AEREO</td>\n      <td>0.000</td>\n      <td>1</td>\n    </tr>\n    <tr>\n      <th>...</th>\n      <td>...</td>\n      <td>...</td>\n      <td>...</td>\n      <td>...</td>\n      <td>...</td>\n      <td>...</td>\n      <td>...</td>\n      <td>...</td>\n      <td>...</td>\n      <td>...</td>\n      <td>...</td>\n      <td>...</td>\n      <td>...</td>\n      <td>...</td>\n      <td>...</td>\n    </tr>\n    <tr>\n      <th>239</th>\n      <td>2020-07-29</td>\n      <td>7-JULIO 2020</td>\n      <td>75946</td>\n      <td>132977</td>\n      <td>ROBERTO MORANDI</td>\n      <td>0.0</td>\n      <td>2.3142</td>\n      <td>2.639</td>\n      <td>0.3248</td>\n      <td>NaN</td>\n      <td>NaT</td>\n      <td>NaT</td>\n      <td>MARITIMO</td>\n      <td>0.203</td>\n      <td>7</td>\n    </tr>\n    <tr>\n      <th>240</th>\n      <td>2020-07-29</td>\n      <td>7-JULIO 2020</td>\n      <td>75946</td>\n      <td>132979</td>\n      <td>ROBERTO MORANDI</td>\n      <td>0.0</td>\n      <td>1.3794</td>\n      <td>1.573</td>\n      <td>0.1936</td>\n      <td>NaN</td>\n      <td>NaT</td>\n      <td>NaT</td>\n      <td>MARITIMO</td>\n      <td>0.121</td>\n      <td>7</td>\n    </tr>\n    <tr>\n      <th>241</th>\n      <td>2020-07-30</td>\n      <td>7-JULIO 2020</td>\n      <td>76005</td>\n      <td>133015</td>\n      <td>STEFANIA CHEHADE</td>\n      <td>0.0</td>\n      <td>0.7068</td>\n      <td>0.806</td>\n      <td>0.0992</td>\n      <td>NaN</td>\n      <td>NaT</td>\n      <td>NaT</td>\n      <td>MARITIMO</td>\n      <td>0.062</td>\n      <td>7</td>\n    </tr>\n    <tr>\n      <th>242</th>\n      <td>2020-07-30</td>\n      <td>7-JULIO 2020</td>\n      <td>76005</td>\n      <td>133058</td>\n      <td>JOSMIN VALERA</td>\n      <td>0.0</td>\n      <td>20.3148</td>\n      <td>23.166</td>\n      <td>2.8512</td>\n      <td>NaN</td>\n      <td>NaT</td>\n      <td>NaT</td>\n      <td>MARITIMO</td>\n      <td>1.782</td>\n      <td>7</td>\n    </tr>\n    <tr>\n      <th>243</th>\n      <td>2020-07-31</td>\n      <td>7-JULIO 2020</td>\n      <td>0</td>\n      <td>133103</td>\n      <td>Isai Albert</td>\n      <td>0.0</td>\n      <td>105.8718</td>\n      <td>120.731</td>\n      <td>14.8592</td>\n      <td>NaN</td>\n      <td>NaT</td>\n      <td>NaT</td>\n      <td>MARITIMO</td>\n      <td>9.287</td>\n      <td>7</td>\n    </tr>\n  </tbody>\n</table>\n<p>1319 rows × 15 columns</p>\n</div>"
     },
     "metadata": {},
     "execution_count": 3
    }
   ],
   "source": [
    "mbm_data"
   ]
  },
  {
   "cell_type": "code",
   "execution_count": 4,
   "metadata": {},
   "outputs": [
    {
     "output_type": "execute_result",
     "data": {
      "text/plain": "               N° WAREHOUSE GANANCIAS MBM       \n                      count           sum   mean\nMES                                             \n1-ENERO 2020             67        538.80   8.04\n2-FEBRERO 2020           56        456.39   8.15\n3-MARZO 2020             72        517.22   7.18\n4-ABRIL 2020            105       1069.80  10.19\n5-MAYO 2020             242       1364.35   5.64\n6-JUNIO 2020            319       1760.84   5.52\n7-JULIO 2020            458       3179.15   6.94",
      "text/html": "<div>\n<style scoped>\n    .dataframe tbody tr th:only-of-type {\n        vertical-align: middle;\n    }\n\n    .dataframe tbody tr th {\n        vertical-align: top;\n    }\n\n    .dataframe thead tr th {\n        text-align: left;\n    }\n\n    .dataframe thead tr:last-of-type th {\n        text-align: right;\n    }\n</style>\n<table border=\"1\" class=\"dataframe\">\n  <thead>\n    <tr>\n      <th></th>\n      <th>N° WAREHOUSE</th>\n      <th colspan=\"2\" halign=\"left\">GANANCIAS MBM</th>\n    </tr>\n    <tr>\n      <th></th>\n      <th>count</th>\n      <th>sum</th>\n      <th>mean</th>\n    </tr>\n    <tr>\n      <th>MES</th>\n      <th></th>\n      <th></th>\n      <th></th>\n    </tr>\n  </thead>\n  <tbody>\n    <tr>\n      <th>1-ENERO 2020</th>\n      <td>67</td>\n      <td>538.80</td>\n      <td>8.04</td>\n    </tr>\n    <tr>\n      <th>2-FEBRERO 2020</th>\n      <td>56</td>\n      <td>456.39</td>\n      <td>8.15</td>\n    </tr>\n    <tr>\n      <th>3-MARZO 2020</th>\n      <td>72</td>\n      <td>517.22</td>\n      <td>7.18</td>\n    </tr>\n    <tr>\n      <th>4-ABRIL 2020</th>\n      <td>105</td>\n      <td>1069.80</td>\n      <td>10.19</td>\n    </tr>\n    <tr>\n      <th>5-MAYO 2020</th>\n      <td>242</td>\n      <td>1364.35</td>\n      <td>5.64</td>\n    </tr>\n    <tr>\n      <th>6-JUNIO 2020</th>\n      <td>319</td>\n      <td>1760.84</td>\n      <td>5.52</td>\n    </tr>\n    <tr>\n      <th>7-JULIO 2020</th>\n      <td>458</td>\n      <td>3179.15</td>\n      <td>6.94</td>\n    </tr>\n  </tbody>\n</table>\n</div>"
     },
     "metadata": {},
     "execution_count": 4
    }
   ],
   "source": [
    "mbm_data.groupby('MES').agg({'N° WAREHOUSE': ['count'], 'GANANCIAS MBM': ['sum', 'mean']}).round(decimals=2)"
   ]
  },
  {
   "cell_type": "markdown",
   "metadata": {},
   "source": []
  },
  {
   "cell_type": "code",
   "execution_count": null,
   "metadata": {},
   "outputs": [],
   "source": [
    "mbm_data['NUM_MES'].value_counts()"
   ]
  },
  {
   "cell_type": "code",
   "execution_count": null,
   "metadata": {},
   "outputs": [],
   "source": [
    "mbm_data"
   ]
  },
  {
   "cell_type": "code",
   "execution_count": null,
   "metadata": {},
   "outputs": [],
   "source": [
    "mbm_data.columns"
   ]
  },
  {
   "cell_type": "code",
   "execution_count": null,
   "metadata": {},
   "outputs": [],
   "source": [
    "mbm_data[\"GROSS WEIGHT (lb)\"].sum()"
   ]
  },
  {
   "cell_type": "code",
   "execution_count": null,
   "metadata": {},
   "outputs": [],
   "source": [
    "mbm_data[\"GROSS WEIGHT (Ft)\"].sum()"
   ]
  },
  {
   "cell_type": "code",
   "execution_count": null,
   "metadata": {},
   "outputs": [],
   "source": [
    "mbm_data.groupby('MES')"
   ]
  },
  {
   "cell_type": "code",
   "execution_count": null,
   "metadata": {},
   "outputs": [],
   "source": [
    "mbm_data.groupby('MES').sum()"
   ]
  },
  {
   "cell_type": "code",
   "execution_count": null,
   "metadata": {},
   "outputs": [],
   "source": [
    "mbm_data.groupby('CLIENTE').sum().sort_values('GANANCIAS MBM', ascending = False).head()"
   ]
  },
  {
   "cell_type": "code",
   "execution_count": null,
   "metadata": {},
   "outputs": [],
   "source": []
  }
 ]
}